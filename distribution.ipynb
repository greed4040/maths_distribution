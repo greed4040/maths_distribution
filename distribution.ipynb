{
 "cells": [
  {
   "cell_type": "code",
   "execution_count": 1,
   "metadata": {},
   "outputs": [
    {
     "name": "stdout",
     "output_type": "stream",
     "text": [
      "[ 0. -2.  1.  0.  2.  0. -4.  3.  2.  2.  3. -3.  2.  2. -1. -0. -2. -2.\n",
      "  0.  4.  5. -3.  1.  0.  4. -1. -1. -2. -2.  1. -2. -1. -1.  4.  1. -1.\n",
      " -3. -4. -3. -1. -2.  0. -4.  1.  1. -0.  3.  4. -3. -7. -3. -5.  0.  3.\n",
      " -2.  0.  0. -0. -2. -2.  4.  4. -1. -3. -2. -3.  4. -3. -3. -3.  2. -3.\n",
      "  5.  0. -5. -0. -1.  2. -4.  2. -3.  3. -1. -0. -2.  8. -5.  4.  2. -4.\n",
      "  3.  1.  3. -2. -1. -3.  1.  3.  3. -2.]\n"
     ]
    }
   ],
   "source": [
    "import numpy as np\n",
    "import statistics \n",
    "import math\n",
    "import matplotlib.pyplot as plt\n",
    "mu, sigma = 0, 0.1 # mean and standard deviation\n",
    "floats = np.random.normal(scale=3, size=100)\n",
    "randomInts = np.round(floats)\n",
    "print(randomInts)\n",
    "\n",
    "#normal distrubution formula\n",
    "def normdf(x, mean, sd): \n",
    "    var = float(sd)**2\n",
    "    denom = (2*math.pi*var)**.5\n",
    "    num = math.exp(-(float(x)-float(mean))**2/(2*var))\n",
    "    return num/denom\n",
    "\n",
    "def normdf2(x, mean, sd):\n",
    "    var = float(sd)**2\n",
    "    denom = (2*math.pi*var)**.5\n",
    "    num = np.exp(-( x - mean)**2/(2*var))\n",
    "    return num/denom"
   ]
  },
  {
   "cell_type": "code",
   "execution_count": 56,
   "metadata": {},
   "outputs": [
    {
     "name": "stdout",
     "output_type": "stream",
     "text": [
      "median:0.0, sigma:2.770698048645445\n"
     ]
    }
   ],
   "source": [
    "median = statistics.median(randomInts)\n",
    "sigma = statistics.stdev(randomInts)\n",
    "print(\"median:{}, sigma:{}\".format(median, sigma))"
   ]
  },
  {
   "cell_type": "code",
   "execution_count": 57,
   "metadata": {},
   "outputs": [
    {
     "data": {
      "image/png": "[encoded data removed]",
      "text/plain": [
       "<Figure size 432x288 with 1 Axes>"
      ]
     },
     "metadata": {
      "needs_background": "light"
     },
     "output_type": "display_data"
    }
   ],
   "source": [
    "import pandas as pd\n",
    "d=pd.DataFrame(randomInts)\n",
    "data=d.hist()"
   ]
  },
  {
   "cell_type": "code",
   "execution_count": 74,
   "metadata": {},
   "outputs": [
    {
     "data": {
      "text/html": [
       "<div>\n",
       "<style scoped>\n",
       "    .dataframe tbody tr th:only-of-type {\n",
       "        vertical-align: middle;\n",
       "    }\n",
       "\n",
       "    .dataframe tbody tr th {\n",
       "        vertical-align: top;\n",
       "    }\n",
       "\n",
       "    .dataframe thead th {\n",
       "        text-align: right;\n",
       "    }\n",
       "</style>\n",
       "<table border=\"1\" class=\"dataframe\">\n",
       "  <thead>\n",
       "    <tr style=\"text-align: right;\">\n",
       "      <th></th>\n",
       "      <th>0</th>\n",
       "      <th>1</th>\n",
       "      <th>2</th>\n",
       "      <th>3</th>\n",
       "      <th>4</th>\n",
       "      <th>5</th>\n",
       "      <th>6</th>\n",
       "      <th>7</th>\n",
       "      <th>8</th>\n",
       "      <th>9</th>\n",
       "      <th>10</th>\n",
       "      <th>11</th>\n",
       "      <th>12</th>\n",
       "    </tr>\n",
       "  </thead>\n",
       "  <tbody>\n",
       "    <tr>\n",
       "      <th>x</th>\n",
       "      <td>-7</td>\n",
       "      <td>-5</td>\n",
       "      <td>-4</td>\n",
       "      <td>-3</td>\n",
       "      <td>-2</td>\n",
       "      <td>-1</td>\n",
       "      <td>0</td>\n",
       "      <td>1</td>\n",
       "      <td>2</td>\n",
       "      <td>3</td>\n",
       "      <td>4</td>\n",
       "      <td>5</td>\n",
       "      <td>8</td>\n",
       "    </tr>\n",
       "    <tr>\n",
       "      <th>y</th>\n",
       "      <td>1</td>\n",
       "      <td>3</td>\n",
       "      <td>5</td>\n",
       "      <td>14</td>\n",
       "      <td>14</td>\n",
       "      <td>11</td>\n",
       "      <td>15</td>\n",
       "      <td>8</td>\n",
       "      <td>9</td>\n",
       "      <td>9</td>\n",
       "      <td>8</td>\n",
       "      <td>2</td>\n",
       "      <td>1</td>\n",
       "    </tr>\n",
       "  </tbody>\n",
       "</table>\n",
       "</div>"
      ],
      "text/plain": [
       "   0  1  2   3   4   5   6  7  8  9  10  11  12\n",
       "x -7 -5 -4  -3  -2  -1   0  1  2  3   4   5   8\n",
       "y  1  3  5  14  14  11  15  8  9  9   8   2   1"
      ]
     },
     "execution_count": 74,
     "metadata": {},
     "output_type": "execute_result"
    }
   ],
   "source": [
    "hist={}\n",
    "for el in randomInts:\n",
    "    if el in hist: hist[int(el)]=hist[el]+1\n",
    "    if el not in hist: hist[int(el)]=1\n",
    "hist=dict(sorted(hist.items()))\n",
    "hist_df=pd.DataFrame(hist.items(), columns=['x','y'])\n",
    "hist_df.transpose()"
   ]
  },
  {
   "cell_type": "code",
   "execution_count": 75,
   "metadata": {
    "scrolled": true
   },
   "outputs": [
    {
     "data": {
      "text/html": [
       "<div>\n",
       "<style scoped>\n",
       "    .dataframe tbody tr th:only-of-type {\n",
       "        vertical-align: middle;\n",
       "    }\n",
       "\n",
       "    .dataframe tbody tr th {\n",
       "        vertical-align: top;\n",
       "    }\n",
       "\n",
       "    .dataframe thead th {\n",
       "        text-align: right;\n",
       "    }\n",
       "</style>\n",
       "<table border=\"1\" class=\"dataframe\">\n",
       "  <thead>\n",
       "    <tr style=\"text-align: right;\">\n",
       "      <th></th>\n",
       "      <th>0</th>\n",
       "      <th>1</th>\n",
       "      <th>2</th>\n",
       "      <th>3</th>\n",
       "      <th>4</th>\n",
       "      <th>5</th>\n",
       "      <th>6</th>\n",
       "      <th>7</th>\n",
       "      <th>8</th>\n",
       "      <th>9</th>\n",
       "      <th>10</th>\n",
       "      <th>11</th>\n",
       "      <th>12</th>\n",
       "      <th>13</th>\n",
       "    </tr>\n",
       "  </thead>\n",
       "  <tbody>\n",
       "    <tr>\n",
       "      <th>0</th>\n",
       "      <td>-7</td>\n",
       "      <td>-6</td>\n",
       "      <td>-5</td>\n",
       "      <td>-4</td>\n",
       "      <td>-3</td>\n",
       "      <td>-2</td>\n",
       "      <td>-1</td>\n",
       "      <td>0</td>\n",
       "      <td>1</td>\n",
       "      <td>2</td>\n",
       "      <td>3</td>\n",
       "      <td>4</td>\n",
       "      <td>5</td>\n",
       "      <td>6</td>\n",
       "    </tr>\n",
       "    <tr>\n",
       "      <th>1</th>\n",
       "      <td>1</td>\n",
       "      <td>1</td>\n",
       "      <td>3</td>\n",
       "      <td>5</td>\n",
       "      <td>8</td>\n",
       "      <td>11</td>\n",
       "      <td>13</td>\n",
       "      <td>14</td>\n",
       "      <td>13</td>\n",
       "      <td>11</td>\n",
       "      <td>8</td>\n",
       "      <td>5</td>\n",
       "      <td>3</td>\n",
       "      <td>1</td>\n",
       "    </tr>\n",
       "  </tbody>\n",
       "</table>\n",
       "</div>"
      ],
      "text/plain": [
       "   0  1  2  3  4   5   6   7   8   9  10  11  12  13\n",
       "0 -7 -6 -5 -4 -3  -2  -1   0   1   2   3   4   5   6\n",
       "1  1  1  3  5  8  11  13  14  13  11   8   5   3   1"
      ]
     },
     "execution_count": 75,
     "metadata": {},
     "output_type": "execute_result"
    }
   ],
   "source": [
    "s1=\"\"\n",
    "s2=\"\"\n",
    "for i in range(-7,7): s1=s1+str(i)+\" \"; s2=s2+\" \"+str(round(normdf(i, median, sigma)*100))\n",
    "ss1=[d for d in range(-7,7)]\n",
    "ss2=[round(normdf(d, median, sigma)*100) for d in range(-7,7)]\n",
    "normal_distribution=pd.DataFrame([ss1,ss2])\n",
    "normal_distribution"
   ]
  },
  {
   "cell_type": "code",
   "execution_count": 80,
   "metadata": {},
   "outputs": [
    {
     "data": {
      "image/png": "[encoded data removed]",
      "text/plain": [
       "<Figure size 432x288 with 1 Axes>"
      ]
     },
     "metadata": {
      "needs_background": "light"
     },
     "output_type": "display_data"
    }
   ],
   "source": [
    "s2=[]\n",
    "s1=[]\n",
    "for i in range(-7,7): s2.append(round(normdf(i, median, sigma)*100)); s1.append(i)\n",
    "#print(s2)\n",
    "p=pd.DataFrame([s1,s2])\n",
    "p=p.transpose()\n",
    "p.columns = ['x', 'y']\n",
    "\n",
    "plt.plot(hist_df['x'], hist_df['y'], color='green')\n",
    "plt.scatter(x=p['x'], y=p['y'])\n",
    "plt.grid()"
   ]
  },
  {
   "cell_type": "code",
   "execution_count": null,
   "metadata": {},
   "outputs": [],
   "source": []
  }
 ],
 "metadata": {
  "kernelspec": {
   "display_name": "Python 3",
   "language": "python",
   "name": "python3"
  },
  "language_info": {
   "codemirror_mode": {
    "name": "ipython",
    "version": 3
   },
   "file_extension": ".py",
   "mimetype": "text/x-python",
   "name": "python",
   "nbconvert_exporter": "python",
   "pygments_lexer": "ipython3",
   "version": "3.7.6"
  }
 },
 "nbformat": 4,
 "nbformat_minor": 4
}
