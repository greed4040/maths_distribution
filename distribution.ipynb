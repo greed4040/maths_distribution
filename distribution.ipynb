{
 "cells": [
  {
   "cell_type": "code",
   "execution_count": 40,
   "metadata": {},
   "outputs": [
    {
     "name": "stdout",
     "output_type": "stream",
     "text": [
      "[-1.  0. -3.  3. -0. -1.  3.  2.  4. -1. -0.  3. -0. -3.  1.  1.  1. -0.\n",
      " -2. -2.  2. -2.  3.  1. -0.  2. -1. -9.  5.  3.  1. -5. -1.  1.  2.  1.\n",
      " -2.  3. -3.  6. -5.  0.  4.  0. -1.  0.  5.  0. -9.  3. -7.  0.  3. -0.\n",
      "  1.  0.  1. -2.  1.  1. -5. -6.  0.  4.  0. -0. -2.  4. -5. -3.  2.  4.\n",
      "  5. -7. -3.  0.  1.  1. -6.  1.  0.  2.  1. -3.  2.  0. -1.  1. -1. -3.\n",
      "  4.  5.  5.  0.  0.  6.  4. -3. -1. -1.]\n"
     ]
    }
   ],
   "source": [
    "import numpy as np\n",
    "import statistics \n",
    "import math\n",
    "import matplotlib.pyplot as plt\n",
    "mu, sigma = 0, 0.1 # mean and standard deviation\n",
    "floats = np.random.normal(scale=3, size=100)\n",
    "randomInts = np.round(floats)\n",
    "print(randomInts)\n",
    "\n",
    "#normal distrubution formula\n",
    "def normdf(x, mean, sd): \n",
    "    var = float(sd)**2\n",
    "    denom = (2*math.pi*var)**.5\n",
    "    num = math.exp(-(float(x)-float(mean))**2/(2*var))\n",
    "    return num/denom\n",
    "\n",
    "def normdf2(x, mean, sd):\n",
    "    var = float(sd)**2\n",
    "    denom = (2*math.pi*var)**.5\n",
    "    num = np.exp(-( x - mean)**2/(2*var))\n",
    "    return num/denom"
   ]
  },
  {
   "cell_type": "code",
   "execution_count": 41,
   "metadata": {},
   "outputs": [
    {
     "name": "stdout",
     "output_type": "stream",
     "text": [
      "median:0.0, sigma:3.117545654692311\n"
     ]
    }
   ],
   "source": [
    "median = statistics.median(randomInts)\n",
    "sigma = statistics.stdev(randomInts)\n",
    "print(\"median:{}, sigma:{}\".format(median, sigma))"
   ]
  },
  {
   "cell_type": "code",
   "execution_count": 42,
   "metadata": {},
   "outputs": [
    {
     "data": {
      "image/png": "[encoded data removed]",
      "text/plain": [
       "<Figure size 432x288 with 1 Axes>"
      ]
     },
     "metadata": {
      "needs_background": "light"
     },
     "output_type": "display_data"
    }
   ],
   "source": [
    "import pandas as pd\n",
    "d=pd.DataFrame(randomInts)\n",
    "data=d.hist()"
   ]
  },
  {
   "cell_type": "code",
   "execution_count": 43,
   "metadata": {},
   "outputs": [
    {
     "data": {
      "text/html": [
       "<div>\n",
       "<style scoped>\n",
       "    .dataframe tbody tr th:only-of-type {\n",
       "        vertical-align: middle;\n",
       "    }\n",
       "\n",
       "    .dataframe tbody tr th {\n",
       "        vertical-align: top;\n",
       "    }\n",
       "\n",
       "    .dataframe thead th {\n",
       "        text-align: right;\n",
       "    }\n",
       "</style>\n",
       "<table border=\"1\" class=\"dataframe\">\n",
       "  <thead>\n",
       "    <tr style=\"text-align: right;\">\n",
       "      <th></th>\n",
       "      <th>0</th>\n",
       "      <th>1</th>\n",
       "      <th>2</th>\n",
       "      <th>3</th>\n",
       "      <th>4</th>\n",
       "      <th>5</th>\n",
       "      <th>6</th>\n",
       "      <th>7</th>\n",
       "      <th>8</th>\n",
       "      <th>9</th>\n",
       "      <th>10</th>\n",
       "      <th>11</th>\n",
       "      <th>12</th>\n",
       "      <th>13</th>\n",
       "    </tr>\n",
       "  </thead>\n",
       "  <tbody>\n",
       "    <tr>\n",
       "      <th>x</th>\n",
       "      <td>-9</td>\n",
       "      <td>-7</td>\n",
       "      <td>-6</td>\n",
       "      <td>-5</td>\n",
       "      <td>-3</td>\n",
       "      <td>-2</td>\n",
       "      <td>-1</td>\n",
       "      <td>0</td>\n",
       "      <td>1</td>\n",
       "      <td>2</td>\n",
       "      <td>3</td>\n",
       "      <td>4</td>\n",
       "      <td>5</td>\n",
       "      <td>6</td>\n",
       "    </tr>\n",
       "    <tr>\n",
       "      <th>y</th>\n",
       "      <td>2</td>\n",
       "      <td>2</td>\n",
       "      <td>2</td>\n",
       "      <td>4</td>\n",
       "      <td>8</td>\n",
       "      <td>6</td>\n",
       "      <td>10</td>\n",
       "      <td>21</td>\n",
       "      <td>16</td>\n",
       "      <td>7</td>\n",
       "      <td>8</td>\n",
       "      <td>7</td>\n",
       "      <td>5</td>\n",
       "      <td>2</td>\n",
       "    </tr>\n",
       "  </tbody>\n",
       "</table>\n",
       "</div>"
      ],
      "text/plain": [
       "   0  1  2  3  4  5   6   7   8  9  10  11  12  13\n",
       "x -9 -7 -6 -5 -3 -2  -1   0   1  2   3   4   5   6\n",
       "y  2  2  2  4  8  6  10  21  16  7   8   7   5   2"
      ]
     },
     "execution_count": 43,
     "metadata": {},
     "output_type": "execute_result"
    }
   ],
   "source": [
    "hist={}\n",
    "for el in randomInts:\n",
    "    if el in hist: hist[int(el)]=hist[el]+1\n",
    "    if el not in hist: hist[int(el)]=1\n",
    "hist=dict(sorted(hist.items()))\n",
    "hist_df=pd.DataFrame(hist.items(), columns=['x','y'])\n",
    "hist_df.transpose()"
   ]
  },
  {
   "cell_type": "code",
   "execution_count": 59,
   "metadata": {
    "scrolled": true
   },
   "outputs": [
    {
     "data": {
      "text/html": [
       "<div>\n",
       "<style scoped>\n",
       "    .dataframe tbody tr th:only-of-type {\n",
       "        vertical-align: middle;\n",
       "    }\n",
       "\n",
       "    .dataframe tbody tr th {\n",
       "        vertical-align: top;\n",
       "    }\n",
       "\n",
       "    .dataframe thead th {\n",
       "        text-align: right;\n",
       "    }\n",
       "</style>\n",
       "<table border=\"1\" class=\"dataframe\">\n",
       "  <thead>\n",
       "    <tr style=\"text-align: right;\">\n",
       "      <th></th>\n",
       "      <th>0</th>\n",
       "      <th>1</th>\n",
       "      <th>2</th>\n",
       "      <th>3</th>\n",
       "      <th>4</th>\n",
       "      <th>5</th>\n",
       "      <th>6</th>\n",
       "      <th>7</th>\n",
       "      <th>8</th>\n",
       "      <th>9</th>\n",
       "      <th>10</th>\n",
       "      <th>11</th>\n",
       "      <th>12</th>\n",
       "      <th>13</th>\n",
       "    </tr>\n",
       "  </thead>\n",
       "  <tbody>\n",
       "    <tr>\n",
       "      <th>x</th>\n",
       "      <td>-7</td>\n",
       "      <td>-6</td>\n",
       "      <td>-5</td>\n",
       "      <td>-4</td>\n",
       "      <td>-3</td>\n",
       "      <td>-2</td>\n",
       "      <td>-1</td>\n",
       "      <td>0</td>\n",
       "      <td>1</td>\n",
       "      <td>2</td>\n",
       "      <td>3</td>\n",
       "      <td>4</td>\n",
       "      <td>5</td>\n",
       "      <td>6</td>\n",
       "    </tr>\n",
       "    <tr>\n",
       "      <th>y</th>\n",
       "      <td>0</td>\n",
       "      <td>0</td>\n",
       "      <td>0</td>\n",
       "      <td>0</td>\n",
       "      <td>0</td>\n",
       "      <td>0</td>\n",
       "      <td>5</td>\n",
       "      <td>24</td>\n",
       "      <td>40</td>\n",
       "      <td>24</td>\n",
       "      <td>5</td>\n",
       "      <td>0</td>\n",
       "      <td>0</td>\n",
       "      <td>0</td>\n",
       "    </tr>\n",
       "  </tbody>\n",
       "</table>\n",
       "</div>"
      ],
      "text/plain": [
       "   0  1  2  3  4  5  6   7   8   9  10  11  12  13\n",
       "x -7 -6 -5 -4 -3 -2 -1   0   1   2   3   4   5   6\n",
       "y  0  0  0  0  0  0  5  24  40  24   5   0   0   0"
      ]
     },
     "execution_count": 59,
     "metadata": {},
     "output_type": "execute_result"
    }
   ],
   "source": [
    "ss1=[d for d in range(-7,7)]\n",
    "#ss2=[round(normdf(d, median, sigma)*100) for d in range(-7,7)]\n",
    "ss2=[round(normdf(d, 1, 1)*100) for d in range(-7,7)]\n",
    "\n",
    "normal_distribution=pd.DataFrame([ss1,ss2]).transpose()\n",
    "normal_distribution.columns=['x','y']\n",
    "normal_distribution.transpose()"
   ]
  },
  {
   "cell_type": "code",
   "execution_count": 60,
   "metadata": {},
   "outputs": [
    {
     "data": {
      "text/html": [
       "<div>\n",
       "<style scoped>\n",
       "    .dataframe tbody tr th:only-of-type {\n",
       "        vertical-align: middle;\n",
       "    }\n",
       "\n",
       "    .dataframe tbody tr th {\n",
       "        vertical-align: top;\n",
       "    }\n",
       "\n",
       "    .dataframe thead th {\n",
       "        text-align: right;\n",
       "    }\n",
       "</style>\n",
       "<table border=\"1\" class=\"dataframe\">\n",
       "  <thead>\n",
       "    <tr style=\"text-align: right;\">\n",
       "      <th></th>\n",
       "      <th>0</th>\n",
       "      <th>1</th>\n",
       "      <th>2</th>\n",
       "      <th>3</th>\n",
       "      <th>4</th>\n",
       "      <th>5</th>\n",
       "      <th>6</th>\n",
       "      <th>7</th>\n",
       "      <th>8</th>\n",
       "      <th>9</th>\n",
       "      <th>10</th>\n",
       "      <th>11</th>\n",
       "      <th>12</th>\n",
       "      <th>13</th>\n",
       "    </tr>\n",
       "  </thead>\n",
       "  <tbody>\n",
       "    <tr>\n",
       "      <th>x</th>\n",
       "      <td>-7</td>\n",
       "      <td>-6</td>\n",
       "      <td>-5</td>\n",
       "      <td>-4</td>\n",
       "      <td>-3</td>\n",
       "      <td>-2</td>\n",
       "      <td>-1</td>\n",
       "      <td>0</td>\n",
       "      <td>1</td>\n",
       "      <td>2</td>\n",
       "      <td>3</td>\n",
       "      <td>4</td>\n",
       "      <td>5</td>\n",
       "      <td>6</td>\n",
       "    </tr>\n",
       "    <tr>\n",
       "      <th>data</th>\n",
       "      <td>2</td>\n",
       "      <td>2</td>\n",
       "      <td>2</td>\n",
       "      <td>4</td>\n",
       "      <td>8</td>\n",
       "      <td>6</td>\n",
       "      <td>10</td>\n",
       "      <td>21</td>\n",
       "      <td>16</td>\n",
       "      <td>7</td>\n",
       "      <td>8</td>\n",
       "      <td>7</td>\n",
       "      <td>5</td>\n",
       "      <td>2</td>\n",
       "    </tr>\n",
       "    <tr>\n",
       "      <th>gauss</th>\n",
       "      <td>0</td>\n",
       "      <td>0</td>\n",
       "      <td>0</td>\n",
       "      <td>0</td>\n",
       "      <td>0</td>\n",
       "      <td>0</td>\n",
       "      <td>5</td>\n",
       "      <td>24</td>\n",
       "      <td>40</td>\n",
       "      <td>24</td>\n",
       "      <td>5</td>\n",
       "      <td>0</td>\n",
       "      <td>0</td>\n",
       "      <td>0</td>\n",
       "    </tr>\n",
       "    <tr>\n",
       "      <th>error</th>\n",
       "      <td>2</td>\n",
       "      <td>2</td>\n",
       "      <td>2</td>\n",
       "      <td>4</td>\n",
       "      <td>8</td>\n",
       "      <td>6</td>\n",
       "      <td>5</td>\n",
       "      <td>3</td>\n",
       "      <td>24</td>\n",
       "      <td>17</td>\n",
       "      <td>3</td>\n",
       "      <td>7</td>\n",
       "      <td>5</td>\n",
       "      <td>2</td>\n",
       "    </tr>\n",
       "  </tbody>\n",
       "</table>\n",
       "</div>"
      ],
      "text/plain": [
       "       0  1  2  3  4  5   6   7   8   9  10  11  12  13\n",
       "x     -7 -6 -5 -4 -3 -2  -1   0   1   2   3   4   5   6\n",
       "data   2  2  2  4  8  6  10  21  16   7   8   7   5   2\n",
       "gauss  0  0  0  0  0  0   5  24  40  24   5   0   0   0\n",
       "error  2  2  2  4  8  6   5   3  24  17   3   7   5   2"
      ]
     },
     "execution_count": 60,
     "metadata": {},
     "output_type": "execute_result"
    }
   ],
   "source": [
    "dist_error=pd.DataFrame()\n",
    "dist_error['x']=normal_distribution['x']\n",
    "dist_error['data']=hist_df['y']\n",
    "dist_error['gauss']=normal_distribution['y']\n",
    "dist_error['error']=abs(dist_error['data']-dist_error['gauss'])\n",
    "dist_error.transpose()"
   ]
  },
  {
   "cell_type": "code",
   "execution_count": 63,
   "metadata": {},
   "outputs": [
    {
     "name": "stderr",
     "output_type": "stream",
     "text": [
      "No handles with labels found to put in legend.\n"
     ]
    },
    {
     "data": {
      "image/png": "[encoded data removed]",
      "text/plain": [
       "<Figure size 432x288 with 1 Axes>"
      ]
     },
     "metadata": {
      "needs_background": "light"
     },
     "output_type": "display_data"
    }
   ],
   "source": [
    "#plt.plot(hist_df['x'], hist_df['y'], color='green')\n",
    "plt.scatter(x=dist_error['x'], y=dist_error['gauss'], color='green')\n",
    "plt.plot(p['x'], dist_error['gauss'], color='green')\n",
    "\n",
    "plt.scatter(x=dist_error['x'], y=dist_error['data'], color='blue')\n",
    "plt.plot(p['x'], dist_error['data'], color='blue')\n",
    "\n",
    "plt.scatter(x=dist_error['x'], y=dist_error['error'], color='red')\n",
    "plt.plot(p['x'], dist_error['error'], color='red', linestyle=':')\n",
    "\n",
    "plt.legend()\n",
    "plt.grid()"
   ]
  },
  {
   "cell_type": "code",
   "execution_count": 69,
   "metadata": {},
   "outputs": [],
   "source": [
    "def gen_chart(median, sigma, randomInts):\n",
    "    hist={}\n",
    "    for el in randomInts:\n",
    "        if el in hist: hist[int(el)]=hist[el]+1\n",
    "        if el not in hist: hist[int(el)]=1\n",
    "    hist=dict(sorted(hist.items()))\n",
    "    hist_df=pd.DataFrame(hist.items(), columns=['x','y'])\n",
    "    #################\n",
    "    ss1=[d for d in range(-7,7)]\n",
    "    #ss2=[round(normdf(d, median, sigma)*100) for d in range(-7,7)]\n",
    "    ss2=[round(normdf(d, median, sigma)*100) for d in range(-7,7)]\n",
    "\n",
    "    normal_distribution=pd.DataFrame([ss1,ss2]).transpose()\n",
    "    normal_distribution.columns=['x','y']\n",
    "    #################\n",
    "    dist_error=pd.DataFrame()\n",
    "    dist_error['x']=normal_distribution['x']\n",
    "    dist_error['data']=hist_df['y']\n",
    "    dist_error['gauss']=normal_distribution['y']\n",
    "    dist_error['error']=abs(dist_error['data']-dist_error['gauss'])\n",
    "    mse=statistics.stdev(dist_error['error'])\n",
    "    print(mse)\n",
    "    #################\n",
    "    plt.scatter(x=dist_error['x'], y=dist_error['gauss'], color='green')\n",
    "    plt.plot(p['x'], dist_error['gauss'], color='green')\n",
    "\n",
    "    plt.scatter(x=dist_error['x'], y=dist_error['data'], color='blue')\n",
    "    plt.plot(p['x'], dist_error['data'], color='blue')\n",
    "\n",
    "    plt.scatter(x=dist_error['x'], y=dist_error['error'], color='red')\n",
    "    plt.plot(p['x'], dist_error['error'], color='red', linestyle=':')\n",
    "\n",
    "    plt.legend()\n",
    "    plt.grid()"
   ]
  },
  {
   "cell_type": "code",
   "execution_count": 77,
   "metadata": {},
   "outputs": [
    {
     "name": "stderr",
     "output_type": "stream",
     "text": [
      "No handles with labels found to put in legend.\n"
     ]
    },
    {
     "name": "stdout",
     "output_type": "stream",
     "text": [
      "2.1122354181147664\n"
     ]
    },
    {
     "data": {
      "image/png": "[encoded data removed]",
      "text/plain": [
       "<Figure size 432x288 with 1 Axes>"
      ]
     },
     "metadata": {
      "needs_background": "light"
     },
     "output_type": "display_data"
    }
   ],
   "source": [
    "gen_chart(median=0, sigma=2, randomInts=randomInts)"
   ]
  },
  {
   "cell_type": "code",
   "execution_count": null,
   "metadata": {},
   "outputs": [],
   "source": []
  }
 ],
 "metadata": {
  "kernelspec": {
   "display_name": "Python 3",
   "language": "python",
   "name": "python3"
  },
  "language_info": {
   "codemirror_mode": {
    "name": "ipython",
    "version": 3
   },
   "file_extension": ".py",
   "mimetype": "text/x-python",
   "name": "python",
   "nbconvert_exporter": "python",
   "pygments_lexer": "ipython3",
   "version": "3.7.6"
  }
 },
 "nbformat": 4,
 "nbformat_minor": 4
}
